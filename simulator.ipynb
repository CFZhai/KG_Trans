{
 "cells": [
  {
   "cell_type": "code",
   "execution_count": 1,
   "metadata": {},
   "outputs": [
    {
     "name": "stdout",
     "output_type": "stream",
     "text": [
      "Using CPU\n"
     ]
    },
    {
     "name": "stderr",
     "output_type": "stream",
     "text": [
      "/opt/homebrew/Caskroom/miniforge/base/envs/RL/lib/python3.9/site-packages/torch/nn/modules/transformer.py:282: UserWarning: enable_nested_tensor is True, but self.use_nested_tensor is False because encoder_layer.self_attn.batch_first was not True(use batch_first for better inference performance)\n",
      "  warnings.warn(f\"enable_nested_tensor is True, but self.use_nested_tensor is False because {why_not_sparsity_fast_path}\")\n"
     ]
    },
    {
     "data": {
      "text/plain": [
       "({'obs': array([[0., 0., 0., 0., 0., 0., 0., 0., 0., 0., 0., 0., 0., 0., 0., 0.,\n",
       "          0., 0., 0., 0., 0., 0., 0., 0., 0., 0., 0., 0., 0., 0., 0., 0.]])},\n",
       " {})"
      ]
     },
     "execution_count": 1,
     "metadata": {},
     "output_type": "execute_result"
    }
   ],
   "source": [
    "from copy import deepcopy\n",
    "from environment import Env\n",
    "from tqdm import tqdm\n",
    "import numpy as np\n",
    "\n",
    "\n",
    "total_words = 1000\n",
    "day_limit = 50\n",
    "learn_days = 20\n",
    "\n",
    "original_env = Env(total_words=total_words, day_limit=day_limit, learn_days=learn_days)\n",
    "original_env.reset()"
   ]
  },
  {
   "cell_type": "code",
   "execution_count": 2,
   "metadata": {},
   "outputs": [
    {
     "name": "stderr",
     "output_type": "stream",
     "text": [
      " 95%|█████████▌| 19/20 [00:36<00:01,  1.92s/it]\n"
     ]
    }
   ],
   "source": [
    "env = deepcopy(original_env)\n",
    "\n",
    "threshold = 0.5\n",
    "\n",
    "done = False\n",
    "\n",
    "sum_of_recall_per_day = []\n",
    "\n",
    "for day in tqdm(range(learn_days)):\n",
    "    # all_recall = np.array([env.p_recall(card_id=i) for i in range(4000)])\n",
    "    learned_cards = env.revlog[\"card_id\"].unique()\n",
    "    new_cards = set(range(total_words)) - set(learned_cards)\n",
    "    card_id_for_review = []\n",
    "    if len(learned_cards) > 0:\n",
    "        all_recall = np.array([env.p_recall(card_id=i) for i in learned_cards])\n",
    "        # print(all_recall)\n",
    "        sum_of_recall_per_day.append(np.sum(all_recall))\n",
    "        indexes = np.where(all_recall < threshold)[0]\n",
    "        if len(indexes) > 0:\n",
    "            card_id_for_review = learned_cards[indexes]\n",
    "    num_of_review = len(card_id_for_review)\n",
    "    num_of_new = day_limit - num_of_review\n",
    "    cards_id_for_learn = []\n",
    "    if num_of_new > 0 and len(new_cards) > 0:\n",
    "        cards_id_for_learn = np.random.choice(list(new_cards), num_of_new, replace=True)\n",
    "    cards = np.concatenate([card_id_for_review, cards_id_for_learn])\n",
    "    # print(f\"Day {day+1}: {len(card_id_for_review)} review cards, {len(cards_id_for_learn)} new cards\")\n",
    "    if len(cards) < day_limit:\n",
    "        cards = np.concatenate(\n",
    "            [\n",
    "                cards,\n",
    "                np.random.choice(\n",
    "                    list(learned_cards), day_limit - len(cards), replace=False\n",
    "                ),\n",
    "            ]\n",
    "        )\n",
    "    for i in range(day_limit):\n",
    "        card_id = cards[i]\n",
    "        state, reward, done, _, info = env.step(card_id)\n",
    "        if info[\"response\"] == 0:\n",
    "            # insert card_id to cards[i+2]\n",
    "            cards = np.insert(cards, min(i + 2, len(cards) - 1), card_id)\n",
    "        if done:\n",
    "            break\n",
    "    if done:\n",
    "        break"
   ]
  },
  {
   "cell_type": "code",
   "execution_count": 3,
   "metadata": {},
   "outputs": [
    {
     "data": {
      "text/plain": [
       "[19.036676108837128,\n",
       " 33.56382066011429,\n",
       " 53.39573436975479,\n",
       " 65.95455574989319,\n",
       " 82.22074806690216,\n",
       " 98.53177917003632,\n",
       " 111.12535840272903,\n",
       " 127.62395370006561,\n",
       " 144.75213819742203,\n",
       " 155.3180307149887,\n",
       " 172.466093480587,\n",
       " 187.40787291526794,\n",
       " 200.77599370479584,\n",
       " 217.4954416155815,\n",
       " 235.32760351896286,\n",
       " 249.10809874534607,\n",
       " 265.4391161799431,\n",
       " 283.7364937067032,\n",
       " 298.01388359069824]"
      ]
     },
     "execution_count": 3,
     "metadata": {},
     "output_type": "execute_result"
    }
   ],
   "source": [
    "sum_of_recall_per_day"
   ]
  },
  {
   "cell_type": "code",
   "execution_count": 4,
   "metadata": {},
   "outputs": [
    {
     "data": {
      "image/png": "[encoded data removed]",
      "text/plain": [
       "<Figure size 640x480 with 1 Axes>"
      ]
     },
     "metadata": {},
     "output_type": "display_data"
    }
   ],
   "source": [
    "import matplotlib.pyplot as plt\n",
    "\n",
    "plt.plot(sum_of_recall_per_day)\n",
    "plt.xlabel(\"Day\")\n",
    "plt.ylabel(\"Sum of recall probability\")\n",
    "plt.show()"
   ]
  },
  {
   "cell_type": "code",
   "execution_count": 5,
   "metadata": {},
   "outputs": [],
   "source": [
    "import torch\n",
    "from torch import nn\n",
    "\n",
    "n_input = 4\n",
    "n_hidden = 32\n",
    "n_output = 1\n",
    "n_layers = 1\n",
    "network = \"GRU\"\n",
    "\n",
    "\n",
    "class RNN(nn.Module):\n",
    "    def __init__(self, state_dict=None):\n",
    "        super().__init__()\n",
    "        self.n_input = n_input\n",
    "        self.n_hidden = n_hidden\n",
    "        self.n_out = n_output\n",
    "        self.n_layers = n_layers\n",
    "        if network == \"GRU\":\n",
    "            self.rnn = nn.GRU(\n",
    "                input_size=self.n_input,\n",
    "                hidden_size=self.n_hidden,\n",
    "                num_layers=self.n_layers,\n",
    "            )\n",
    "        elif network == \"LSTM\":\n",
    "            self.rnn = nn.LSTM(\n",
    "                input_size=self.n_input,\n",
    "                hidden_size=self.n_hidden,\n",
    "                num_layers=self.n_layers,\n",
    "            )\n",
    "        else:\n",
    "            self.rnn = nn.RNN(\n",
    "                input_size=self.n_input,\n",
    "                hidden_size=self.n_hidden,\n",
    "                num_layers=self.n_layers,\n",
    "            )\n",
    "\n",
    "        self.fc = nn.Linear(self.n_hidden, self.n_out)\n",
    "\n",
    "        if state_dict is not None:\n",
    "            self.load_state_dict(state_dict)\n",
    "\n",
    "    def forward(self, x, hx=None):\n",
    "        x, h = self.rnn(x, hx=hx)\n",
    "        output = torch.exp(self.fc(x))\n",
    "        return output, h\n",
    "\n",
    "    def full_connect(self, h):\n",
    "        return self.fc(h)\n",
    "\n",
    "    def forgetting_curve(self, t, s):\n",
    "        return 0.9 ** (t / s)\n",
    "\n",
    "\n",
    "state_dict = torch.load(\"./data/GRU-HLR.pth\")\n",
    "model = RNN(state_dict=state_dict)"
   ]
  },
  {
   "cell_type": "code",
   "execution_count": 6,
   "metadata": {},
   "outputs": [
    {
     "name": "stdout",
     "output_type": "stream",
     "text": [
      "tensor([[1.0540],\n",
      "        [4.4724],\n",
      "        [1.6603],\n",
      "        [6.1776]])\n"
     ]
    }
   ],
   "source": [
    "def lineToTensorRNN(line, d):\n",
    "    ivl = line[0].split(\",\")\n",
    "    response = line[1].split(\",\")\n",
    "    tensor = torch.zeros(len(response), n_input, dtype=torch.float32)\n",
    "    for li, response in enumerate(response):\n",
    "        tensor[li][int(response)] = 1\n",
    "        tensor[li][2] = int(ivl[li])\n",
    "        tensor[li][3] = d\n",
    "    return tensor\n",
    "\n",
    "\n",
    "tensor = lineToTensorRNN([\"1,2,3,4\", \"0,1,0,1\"], 1)\n",
    "\n",
    "with torch.no_grad():\n",
    "    output, h = model(tensor)\n",
    "    print(output)"
   ]
  },
  {
   "cell_type": "code",
   "execution_count": 7,
   "metadata": {},
   "outputs": [
    {
     "name": "stderr",
     "output_type": "stream",
     "text": [
      "100%|██████████| 20/20 [00:27<00:00,  1.36s/it]\n"
     ]
    }
   ],
   "source": [
    "env = deepcopy(original_env)\n",
    "\n",
    "threshold = 0.5\n",
    "\n",
    "done = False\n",
    "\n",
    "sum_of_recall_per_day = []\n",
    "\n",
    "for day in tqdm(range(learn_days)):\n",
    "    learned_cards = env.revlog[\"card_id\"].unique()\n",
    "    new_cards = set(range(total_words)) - set(learned_cards)\n",
    "    card_id_for_review = []\n",
    "    if len(learned_cards) > 0:\n",
    "        all_recall = np.array([env.p_recall(card_id=i) for i in learned_cards])\n",
    "        # print(all_recall)\n",
    "        sum_of_recall_per_day.append(np.sum(all_recall))\n",
    "        revlog = env.revlog[env.revlog[\"repeat_time_inday\"] == 1].copy()\n",
    "        revlog.sort_values(by=[\"card_id\", \"review_day_th\"], inplace=True)\n",
    "        revlog[\"delta_t\"] = revlog.review_day_th.diff()\n",
    "        revlog[\"delta_t\"] = revlog[\"delta_t\"].fillna(0)\n",
    "        revlog[\"delta_t\"] = revlog[\"delta_t\"].astype(int)\n",
    "        revlog[\"Y\"] = revlog[\"Y\"].astype(int)\n",
    "        t_history = (\n",
    "            revlog.groupby(by=[\"card_id\"], group_keys=False)[\"delta_t\"]\n",
    "            .apply(lambda x: [str(i) for i in x])\n",
    "            .to_dict()\n",
    "        )\n",
    "        r_history = (\n",
    "            revlog.groupby(by=[\"card_id\"], group_keys=False)[\"Y\"]\n",
    "            .apply(lambda x: [str(i) for i in x])\n",
    "            .to_dict()\n",
    "        )\n",
    "        difficuty = (\n",
    "            revlog.groupby(by=[\"card_id\"], group_keys=False)[\"difficulty\"]\n",
    "            .apply(lambda x: x.iloc[0])\n",
    "            .to_dict()\n",
    "        )\n",
    "\n",
    "        last_review_delta_t = (\n",
    "            revlog.groupby(by=[\"card_id\"], group_keys=False)[\"review_day_th\"]\n",
    "            .apply(lambda x: day - x.iloc[-1])\n",
    "            .to_dict()\n",
    "        )\n",
    "        with torch.no_grad():\n",
    "            for card_id in learned_cards:\n",
    "                t = \",\".join(t_history[card_id])\n",
    "                r = \",\".join(r_history[card_id])\n",
    "                d = difficuty[card_id]\n",
    "                ivl = last_review_delta_t[card_id]\n",
    "                tensor = lineToTensorRNN([t, r], d)\n",
    "                output, h = model(tensor)\n",
    "                retrievability = model.forgetting_curve(ivl, output[0][-1])\n",
    "                if retrievability < threshold:\n",
    "                    card_id_for_review.append(card_id)\n",
    "                    if len(card_id_for_review) >= day_limit:\n",
    "                        break\n",
    "\n",
    "    num_of_review = len(card_id_for_review)\n",
    "    num_of_new = day_limit - num_of_review\n",
    "    cards_id_for_learn = []\n",
    "    if num_of_new > 0 and len(new_cards) > 0:\n",
    "        cards_id_for_learn = np.random.choice(list(new_cards), num_of_new, replace=True)\n",
    "\n",
    "    cards = np.concatenate([card_id_for_review, cards_id_for_learn])\n",
    "    if len(cards) < day_limit:\n",
    "        cards = np.concatenate(\n",
    "            [\n",
    "                cards,\n",
    "                np.random.choice(\n",
    "                    list(learned_cards), day_limit - len(cards), replace=False\n",
    "                ),\n",
    "            ]\n",
    "        )\n",
    "\n",
    "    for i in range(day_limit):\n",
    "        card_id = cards[i]\n",
    "        state, reward, done, _, info = env.step(card_id)\n",
    "        if info[\"response\"] == 0:\n",
    "            # insert card_id to cards[i+2]\n",
    "            cards = np.insert(cards, min(i + 2, len(cards) - 1), card_id)\n",
    "        if done:\n",
    "            break"
   ]
  },
  {
   "cell_type": "code",
   "execution_count": 8,
   "metadata": {},
   "outputs": [
    {
     "data": {
      "image/png": "[encoded data removed]",
      "text/plain": [
       "<Figure size 640x480 with 1 Axes>"
      ]
     },
     "metadata": {},
     "output_type": "display_data"
    }
   ],
   "source": [
    "import matplotlib.pyplot as plt\n",
    "\n",
    "plt.plot(sum_of_recall_per_day)\n",
    "plt.xlabel(\"Day\")\n",
    "plt.ylabel(\"Sum of recall probability\")\n",
    "plt.show()"
   ]
  },
  {
   "cell_type": "code",
   "execution_count": 9,
   "metadata": {},
   "outputs": [],
   "source": [
    "import torch\n",
    "from torch import nn\n",
    "from typing import List, Optional\n",
    "from torch import Tensor\n",
    "\n",
    "class FSRS4(nn.Module):\n",
    "    init_w = [0, 0, 4.93, -0.94, -0.86, 0.01, 1.49, -0.14, 0.94, 2.18, -0.05, 0.34, 1.26, 0, 0]\n",
    "    def __init__(self, w: List[float] = init_w, state_dict=None):\n",
    "        super(FSRS4, self).__init__()\n",
    "        self.w = nn.Parameter(torch.tensor(w, dtype=torch.float32))\n",
    "        self.s0 = nn.Parameter(torch.tensor([1, 2, 3, 4], dtype=torch.float32))\n",
    "        if state_dict is not None:\n",
    "            self.load_state_dict(state_dict)\n",
    "\n",
    "    def forgetting_curve(self, t, s):\n",
    "        return (1 + t / (9 * s)) ** -1\n",
    "\n",
    "    def stability_after_success(self, state: Tensor, new_d: Tensor, r: Tensor, rating: Tensor) -> Tensor:\n",
    "        new_s = state[:,0] * (1 + torch.exp(self.w[6]) *\n",
    "                        (11 - new_d) *\n",
    "                        torch.pow(state[:,0], self.w[7]) *\n",
    "                        (torch.exp((1 - r) * self.w[8]) - 1))\n",
    "        return new_s\n",
    "\n",
    "    def stability_after_failure(self, state: Tensor, new_d: Tensor, r: Tensor) -> Tensor:\n",
    "        new_s = self.w[9] * \\\n",
    "                torch.pow(new_d, self.w[10]) * \\\n",
    "                (torch.pow(state[:,0] + 1, self.w[11]) - 1) * \\\n",
    "                torch.exp((1 - r) * self.w[12])\n",
    "        return new_s\n",
    "\n",
    "    def step(self, X: Tensor, state: Tensor) -> Tensor:\n",
    "        '''\n",
    "        :param X: shape[batch_size, 2], X[:,0] is elapsed time, X[:,1] is rating\n",
    "        :param state: shape[batch_size, 2], state[:,0] is stability, state[:,1] is difficulty\n",
    "        :return state:\n",
    "        '''\n",
    "        if torch.equal(state, torch.zeros_like(state)):\n",
    "            keys = torch.tensor([1, 2, 3, 4])\n",
    "            keys = keys.view(1, -1).expand(X[:,1].long().size(0), -1)\n",
    "            index = (X[:,1].long().unsqueeze(1) == keys).nonzero(as_tuple=True)\n",
    "            # first learn, init memory states\n",
    "            new_s = self.s0[index[1]] + (self.w[0] * X[:,2] + self.w[1])\n",
    "            new_d = self.w[2] + self.w[3] * (X[:,1] - 3) + (self.w[13] * X[:,2] + self.w[14])\n",
    "            new_d = new_d.clamp(1, 10)\n",
    "        else:\n",
    "            r = self.forgetting_curve(X[:,0], state[:,0])\n",
    "            new_d = state[:,1] + self.w[4] * (X[:,1] - 3)\n",
    "            new_d = self.mean_reversion(self.w[2], new_d)\n",
    "            new_d = new_d.clamp(1, 10)\n",
    "            condition = X[:,1] > 1\n",
    "            new_s = torch.where(condition, self.stability_after_success(state, new_d, r, X[:,1]), self.stability_after_failure(state, new_d, r))\n",
    "        new_s = new_s.clamp(0.1, 36500)\n",
    "        return torch.stack([new_s, new_d], dim=1)\n",
    "\n",
    "    def forward(self, inputs: Tensor, state: Optional[Tensor]=None) -> Tensor:\n",
    "        '''\n",
    "        :param inputs: shape[seq_len, batch_size, 2]\n",
    "        '''\n",
    "        if state is None:\n",
    "            state = torch.zeros((inputs.shape[1], 2))\n",
    "        outputs = []\n",
    "        for X in inputs:\n",
    "            state = self.step(X, state)\n",
    "            outputs.append(state)\n",
    "        return torch.stack(outputs), state\n",
    "\n",
    "    def mean_reversion(self, init: Tensor, current: Tensor) -> Tensor:\n",
    "        return self.w[5] * init + (1-self.w[5]) * current\n",
    "    \n",
    "\n",
    "\n",
    "state_dict = torch.load(\"./data/DHP-HLR.pth\")\n",
    "model = FSRS4(state_dict=state_dict)"
   ]
  },
  {
   "cell_type": "code",
   "execution_count": 10,
   "metadata": {},
   "outputs": [
    {
     "name": "stdout",
     "output_type": "stream",
     "text": [
      "tensor([[[0.9366, 6.9458]],\n",
      "\n",
      "        [[3.5437, 6.9457]],\n",
      "\n",
      "        [[1.2842, 7.5399]],\n",
      "\n",
      "        [[5.3482, 7.5398]]])\n"
     ]
    }
   ],
   "source": [
    "def lineToTensor(line: str, d) -> Tensor:\n",
    "    ivl = line[0].split(',')\n",
    "    response = line[1].split(',')\n",
    "    tensor = torch.zeros(len(response), 3)\n",
    "    for li, response in enumerate(response):\n",
    "        tensor[li][0] = int(ivl[li])\n",
    "        tensor[li][1] = int(response)\n",
    "        tensor[li][2] = np.sqrt(d)\n",
    "    return tensor\n",
    "\n",
    "tensor = lineToTensor([\"1,2,3,4\", \"1,3,1,3\"], 1)\n",
    "\n",
    "tensor = tensor.unsqueeze(1)\n",
    "\n",
    "with torch.no_grad():\n",
    "    output, h = model(tensor)\n",
    "    print(output)"
   ]
  },
  {
   "cell_type": "code",
   "execution_count": 11,
   "metadata": {},
   "outputs": [
    {
     "name": "stderr",
     "output_type": "stream",
     "text": [
      "100%|██████████| 20/20 [00:25<00:00,  1.26s/it]\n"
     ]
    }
   ],
   "source": [
    "env = deepcopy(original_env)\n",
    "\n",
    "threshold = 0.5\n",
    "\n",
    "done = False\n",
    "\n",
    "sum_of_recall_per_day = []\n",
    "\n",
    "for day in tqdm(range(learn_days)):\n",
    "    learned_cards = env.revlog[\"card_id\"].unique()\n",
    "    new_cards = set(range(total_words)) - set(learned_cards)\n",
    "    card_id_for_review = []\n",
    "    if len(learned_cards) > 0:\n",
    "        all_recall = np.array([env.p_recall(card_id=i) for i in learned_cards])\n",
    "        # print(all_recall)\n",
    "        sum_of_recall_per_day.append(np.sum(all_recall))\n",
    "        revlog = env.revlog[env.revlog[\"repeat_time_inday\"] == 1].copy()\n",
    "        revlog.sort_values(by=[\"card_id\", \"review_day_th\"], inplace=True)\n",
    "        revlog[\"delta_t\"] = revlog.review_day_th.diff()\n",
    "        revlog[\"delta_t\"] = revlog[\"delta_t\"].fillna(0)\n",
    "        revlog[\"delta_t\"] = revlog[\"delta_t\"].astype(int)\n",
    "        revlog[\"Y\"] = revlog[\"Y\"].astype(int)\n",
    "        t_history = (\n",
    "            revlog.groupby(by=[\"card_id\"], group_keys=False)[\"delta_t\"]\n",
    "            .apply(lambda x: [str(i) for i in x])\n",
    "            .to_dict()\n",
    "        )\n",
    "        r_history = (\n",
    "            revlog.groupby(by=[\"card_id\"], group_keys=False)[\"Y\"]\n",
    "            .apply(lambda x: [str(i) for i in x])\n",
    "            .to_dict()\n",
    "        )\n",
    "        difficuty = (\n",
    "            revlog.groupby(by=[\"card_id\"], group_keys=False)[\"difficulty\"]\n",
    "            .apply(lambda x: x.iloc[0])\n",
    "            .to_dict()\n",
    "        )\n",
    "\n",
    "        last_review_delta_t = (\n",
    "            revlog.groupby(by=[\"card_id\"], group_keys=False)[\"review_day_th\"]\n",
    "            .apply(lambda x: day - x.iloc[-1])\n",
    "            .to_dict()\n",
    "        )\n",
    "        with torch.no_grad():\n",
    "            for card_id in learned_cards:\n",
    "                t = \",\".join(t_history[card_id])\n",
    "                r = \",\".join(r_history[card_id]).replace('1', '3').replace('0', '1')\n",
    "                d = difficuty[card_id]\n",
    "                ivl = last_review_delta_t[card_id]\n",
    "                tensor = lineToTensor([t, r], d).unsqueeze(1)\n",
    "                output, h = model(tensor)\n",
    "                stabilities = output[-1,:,0]\n",
    "                retrievability = model.forgetting_curve(ivl, stabilities)\n",
    "                if retrievability < threshold:\n",
    "                    card_id_for_review.append(card_id)\n",
    "                    if len(card_id_for_review) >= day_limit:\n",
    "                        break\n",
    "\n",
    "    num_of_review = len(card_id_for_review)\n",
    "    num_of_new = day_limit - num_of_review\n",
    "    cards_id_for_learn = []\n",
    "    if num_of_new > 0 and len(new_cards) > 0:\n",
    "        cards_id_for_learn = np.random.choice(list(new_cards), num_of_new, replace=True)\n",
    "\n",
    "    cards = np.concatenate([card_id_for_review, cards_id_for_learn])\n",
    "    if len(cards) < day_limit:\n",
    "        cards = np.concatenate(\n",
    "            [\n",
    "                cards,\n",
    "                np.random.choice(\n",
    "                    list(learned_cards), day_limit - len(cards), replace=False\n",
    "                ),\n",
    "            ]\n",
    "        )\n",
    "\n",
    "    for i in range(day_limit):\n",
    "        card_id = cards[i]\n",
    "        state, reward, done, _, info = env.step(card_id)\n",
    "        if info[\"response\"] == 0:\n",
    "            # insert card_id to cards[i+2]\n",
    "            cards = np.insert(cards, min(i + 2, len(cards) - 1), card_id)\n",
    "        if done:\n",
    "            break"
   ]
  },
  {
   "cell_type": "code",
   "execution_count": 12,
   "metadata": {},
   "outputs": [
    {
     "data": {
      "image/png": "[encoded data removed]",
      "text/plain": [
       "<Figure size 640x480 with 1 Axes>"
      ]
     },
     "metadata": {},
     "output_type": "display_data"
    }
   ],
   "source": [
    "import matplotlib.pyplot as plt\n",
    "\n",
    "plt.plot(sum_of_recall_per_day)\n",
    "plt.xlabel(\"Day\")\n",
    "plt.ylabel(\"Sum of recall probability\")\n",
    "plt.show()"
   ]
  },
  {
   "cell_type": "code",
   "execution_count": 13,
   "metadata": {},
   "outputs": [],
   "source": [
    "class HLR(nn.Module):\n",
    "    def __init__(self, state_dict=None):\n",
    "        super().__init__()\n",
    "        self.n_input = 3\n",
    "        self.n_out = 1\n",
    "        self.fc = nn.Linear(self.n_input, self.n_out)\n",
    "\n",
    "        if state_dict is not None:\n",
    "            self.load_state_dict(state_dict)\n",
    "\n",
    "    def forward(self, x):\n",
    "        dp = self.fc(x)\n",
    "        return 2 ** dp, None\n",
    "\n",
    "    def forgetting_curve(self, t, s):\n",
    "        return 0.5 ** (t / s)\n",
    "    \n",
    "\n",
    "state_dict = torch.load(\"./data/HLR.pth\")\n",
    "model = HLR(state_dict=state_dict)"
   ]
  },
  {
   "cell_type": "code",
   "execution_count": 14,
   "metadata": {},
   "outputs": [
    {
     "name": "stdout",
     "output_type": "stream",
     "text": [
      "tensor([20.1531])\n"
     ]
    }
   ],
   "source": [
    "t_history = \"0,1,4,8\"\n",
    "r_history = \"0,1,0,1\"\n",
    "\n",
    "wrong = r_history.count(\"0\")\n",
    "right = r_history.count(\"1\")\n",
    "difficuty = 6\n",
    "\n",
    "tensor = torch.tensor([np.sqrt(right), np.sqrt(wrong), np.sqrt(difficuty)], dtype=torch.float32)\n",
    "\n",
    "with torch.no_grad():\n",
    "    output, h = model(tensor)\n",
    "    print(output)"
   ]
  },
  {
   "cell_type": "code",
   "execution_count": 17,
   "metadata": {},
   "outputs": [
    {
     "name": "stderr",
     "output_type": "stream",
     "text": [
      "100%|██████████| 20/20 [00:38<00:00,  1.92s/it]\n"
     ]
    }
   ],
   "source": [
    "env = deepcopy(original_env)\n",
    "\n",
    "threshold = 0.5\n",
    "\n",
    "done = False\n",
    "\n",
    "sum_of_recall_per_day = []\n",
    "\n",
    "for day in tqdm(range(learn_days)):\n",
    "    learned_cards = env.revlog[\"card_id\"].unique()\n",
    "    new_cards = set(range(total_words)) - set(learned_cards)\n",
    "    card_id_for_review = []\n",
    "    if len(learned_cards) > 0:\n",
    "        all_recall = np.array([env.p_recall(card_id=i) for i in learned_cards])\n",
    "        # print(all_recall)\n",
    "        sum_of_recall_per_day.append(np.sum(all_recall))\n",
    "        revlog = env.revlog[env.revlog[\"repeat_time_inday\"] == 1].copy()\n",
    "        revlog.sort_values(by=[\"card_id\", \"review_day_th\"], inplace=True)\n",
    "        revlog[\"delta_t\"] = revlog.review_day_th.diff()\n",
    "        revlog[\"delta_t\"] = revlog[\"delta_t\"].fillna(0)\n",
    "        revlog[\"delta_t\"] = revlog[\"delta_t\"].astype(int)\n",
    "        revlog[\"Y\"] = revlog[\"Y\"].astype(int)\n",
    "        t_history = (\n",
    "            revlog.groupby(by=[\"card_id\"], group_keys=False)[\"delta_t\"]\n",
    "            .apply(lambda x: [str(i) for i in x])\n",
    "            .to_dict()\n",
    "        )\n",
    "        r_history = (\n",
    "            revlog.groupby(by=[\"card_id\"], group_keys=False)[\"Y\"]\n",
    "            .apply(lambda x: [str(i) for i in x])\n",
    "            .to_dict()\n",
    "        )\n",
    "        difficuty = (\n",
    "            revlog.groupby(by=[\"card_id\"], group_keys=False)[\"difficulty\"]\n",
    "            .apply(lambda x: x.iloc[0])\n",
    "            .to_dict()\n",
    "        )\n",
    "\n",
    "        last_review_delta_t = (\n",
    "            revlog.groupby(by=[\"card_id\"], group_keys=False)[\"review_day_th\"]\n",
    "            .apply(lambda x: day - x.iloc[-1])\n",
    "            .to_dict()\n",
    "        )\n",
    "        with torch.no_grad():\n",
    "            for card_id in learned_cards:\n",
    "                t = \",\".join(t_history[card_id])\n",
    "                r = \",\".join(r_history[card_id]).replace('1', '3').replace('0', '1')\n",
    "                wrong = r.count(\"0\")\n",
    "                right = r.count(\"1\")\n",
    "                d = difficuty[card_id]\n",
    "                ivl = last_review_delta_t[card_id]\n",
    "                tensor = torch.tensor([np.sqrt(right), np.sqrt(wrong), np.sqrt(d)], dtype=torch.float32)\n",
    "                output, h = model(tensor)\n",
    "                retrievability = model.forgetting_curve(ivl, output)\n",
    "                if retrievability < threshold:\n",
    "                    card_id_for_review.append(card_id)\n",
    "                    if len(card_id_for_review) >= day_limit:\n",
    "                        break\n",
    "\n",
    "    num_of_review = len(card_id_for_review)\n",
    "    num_of_new = day_limit - num_of_review\n",
    "    cards_id_for_learn = []\n",
    "    if num_of_new > 0 and len(new_cards) > 0:\n",
    "        cards_id_for_learn = np.random.choice(list(new_cards), num_of_new, replace=True)\n",
    "\n",
    "    cards = np.concatenate([card_id_for_review, cards_id_for_learn])\n",
    "    if len(cards) < day_limit:\n",
    "        cards = np.concatenate(\n",
    "            [\n",
    "                cards,\n",
    "                np.random.choice(\n",
    "                    list(learned_cards), day_limit - len(cards), replace=False\n",
    "                ),\n",
    "            ]\n",
    "        )\n",
    "\n",
    "    for i in range(day_limit):\n",
    "        card_id = cards[i]\n",
    "        state, reward, done, _, info = env.step(card_id)\n",
    "        if info[\"response\"] == 0:\n",
    "            # insert card_id to cards[i+2]\n",
    "            cards = np.insert(cards, min(i + 2, len(cards) - 1), card_id)\n",
    "        if done:\n",
    "            break"
   ]
  },
  {
   "cell_type": "code",
   "execution_count": 18,
   "metadata": {},
   "outputs": [
    {
     "data": {
      "image/png": "[encoded data removed]",
      "text/plain": [
       "<Figure size 640x480 with 1 Axes>"
      ]
     },
     "metadata": {},
     "output_type": "display_data"
    }
   ],
   "source": [
    "import matplotlib.pyplot as plt\n",
    "\n",
    "plt.plot(sum_of_recall_per_day)\n",
    "plt.xlabel(\"Day\")\n",
    "plt.ylabel(\"Sum of recall probability\")\n",
    "plt.show()"
   ]
  }
 ],
 "metadata": {
  "kernelspec": {
   "display_name": "RL",
   "language": "python",
   "name": "python3"
  },
  "language_info": {
   "codemirror_mode": {
    "name": "ipython",
    "version": 3
   },
   "file_extension": ".py",
   "mimetype": "text/x-python",
   "name": "python",
   "nbconvert_exporter": "python",
   "pygments_lexer": "ipython3",
   "version": "3.9.16"
  }
 },
 "nbformat": 4,
 "nbformat_minor": 2
}
